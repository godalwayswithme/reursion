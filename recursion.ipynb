{
 "cells": [
  {
   "cell_type": "code",
   "execution_count": null,
   "id": "2e570dd7-9c60-41c5-9e07-a6c9084f4a1e",
   "metadata": {},
   "outputs": [],
   "source": [
    "1. Tower of Hanoi Algorithm in Java  \n",
    "\n",
    "\n",
    "The Tower of Hanoi is a classic problem that involves moving a set of disks from one rod to another using a third rod as an auxiliary. The challenge is to move all the disks from the source rod to the destination rod with the following rules:\n",
    "\n",
    "Only one disk can be moved at a time.\n",
    "A disk can only be placed on top of a larger disk or on an empty rod.\n",
    "Here's how you can implement the Tower of Hanoi algorithm using recursion in Java:"
   ]
  },
  {
   "cell_type": "code",
   "execution_count": null,
   "id": "5a8e6d55-90c4-4d89-ad51-2cd7f7517e08",
   "metadata": {},
   "outputs": [],
   "source": [
    "public class TowerOfHanoi {\n",
    "\n",
    "    // Function to perform the Tower of Hanoi algorithm\n",
    "    public static void towerOfHanoi(int n, char source, char auxiliary, char destination) {\n",
    "        if (n == 1) {\n",
    "            System.out.println(\"Move disk 1 from rod \" + source + \" to rod \" + destination);\n",
    "            return;\n",
    "        }\n",
    "        // Move n-1 disks from source to auxiliary, so they are out of the way\n",
    "        towerOfHanoi(n - 1, source, destination, auxiliary);\n",
    "        \n",
    "        // Move the nth disk from source to destination\n",
    "        System.out.println(\"Move disk \" + n + \" from rod \" + source + \" to rod \" + destination);\n",
    "        \n",
    "        // Move the n-1 disks from auxiliary to destination\n",
    "        towerOfHanoi(n - 1, auxiliary, source, destination);\n",
    "    }\n",
    "\n",
    "    public static void main(String[] args) {\n",
    "        int n = 3; // Number of disks\n",
    "        towerOfHanoi(n, 'A', 'B', 'C'); // A, B, and C are names of rods\n",
    "    }\n",
    "}\n"
   ]
  },
  {
   "cell_type": "code",
   "execution_count": null,
   "id": "47a87b42-3608-4dbb-a2a5-c7b877c7b865",
   "metadata": {},
   "outputs": [],
   "source": [
    ".How the Recursion Works:\n",
    "Base Case: When there is only one disk, move it directly from the source rod to the destination rod.\n",
    "Recursive Case: For n disks, first move the top n-1 disks from the source rod to the auxiliary rod. Then, move the nth disk from the source rod to the destination rod. Finally, move the n-1 disks from the auxiliary rod to the destination rod. "
   ]
  },
  {
   "cell_type": "code",
   "execution_count": null,
   "id": "5db75ee5-f059-4430-bb85-93bf603c6cd1",
   "metadata": {},
   "outputs": [],
   "source": [
    "2.  Minimum Number of Operations to Convert word1 to word2\n",
    "The problem you're describing is a common one known as the \"Edit Distance\" problem. This can be solved using dynamic programming. Here's a Java solution:\n",
    "\n"
   ]
  },
  {
   "cell_type": "code",
   "execution_count": null,
   "id": "7b0ab3c9-689f-486d-825a-05bf8f91eecd",
   "metadata": {},
   "outputs": [],
   "source": [
    "public class EditDistance {\n",
    "\n",
    "    public static int minDistance(String word1, String word2) {\n",
    "        int m = word1.length();\n",
    "        int n = word2.length();\n",
    "        int[][] dp = new int[m + 1][n + 1];\n",
    "\n",
    "        // Initialize the dp array\n",
    "        for (int i = 0; i <= m; i++) {\n",
    "            for (int j = 0; j <= n; j++) {\n",
    "                if (i == 0) {\n",
    "                    dp[i][j] = j; // If word1 is empty, insert all characters of word2\n",
    "                } else if (j == 0) {\n",
    "                    dp[i][j] = i; // If word2 is empty, remove all characters of word1\n",
    "                } else if (word1.charAt(i - 1) == word2.charAt(j - 1)) {\n",
    "                    dp[i][j] = dp[i - 1][j - 1]; // Characters match, no additional cost\n",
    "                } else {\n",
    "                    dp[i][j] = 1 + Math.min(dp[i - 1][j],    // Remove\n",
    "                                   Math.min(dp[i][j - 1],    // Insert\n",
    "                                            dp[i - 1][j - 1])); // Replace\n",
    "                }\n",
    "            }\n",
    "        }\n",
    "\n",
    "        return dp[m][n];\n",
    "    }\n",
    "\n",
    "    public static void main(String[] args) {\n",
    "        String word1 = \"horse\";\n",
    "        String word2 = \"ros\";\n",
    "        System.out.println(\"Minimum number of operations: \" + minDistance(word1, word2));\n",
    "    }\n",
    "}\n"
   ]
  },
  {
   "cell_type": "code",
   "execution_count": null,
   "id": "f58924b9-a47f-4c7e-ae24-9191812860b5",
   "metadata": {},
   "outputs": [],
   "source": [
    "Initialization: Create a 2D array dp where dp[i][j] represents the minimum number of operations required to convert the first i characters of word1 to the first j characters of word2.\n",
    "Base Cases: If either string is empty, the number of operations needed is the length of the other string.\n",
    "Recurrence Relation: If the current characters of both strings are the same, no additional cost is needed. Otherwise, consider all three possible operations: insert, remove, and replace, and take the minimum cost among them.\n",
    "The final answer, dp[m][n], will give you the minimum number of operations required to convert word1 to word2."
   ]
  },
  {
   "cell_type": "code",
   "execution_count": null,
   "id": "ff45a889-d958-4b30-86b0-b7148fc232d6",
   "metadata": {},
   "outputs": [],
   "source": [
    "3. Print the max value of the array [13, 1, -3, 22, 5]\n",
    "To find the maximum value in an array, you can use the max() \n",
    "\n",
    "\n"
   ]
  },
  {
   "cell_type": "code",
   "execution_count": null,
   "id": "cafb3c6f-b232-4d73-9c77-5df51334ff7f",
   "metadata": {},
   "outputs": [],
   "source": [
    "array = [13, 1, -3, 22, 5]\n",
    "max_value = max(array)\n",
    "print(max_value)\n",
    "output:22\n"
   ]
  },
  {
   "cell_type": "code",
   "execution_count": null,
   "id": "6f3b8fa6-3b77-4496-a92b-13db41f60869",
   "metadata": {},
   "outputs": [],
   "source": [
    "4.  Find the sum of the values of the array [92, 23, 15, -20, 10]\n",
    "To find the sum of the values in an array, you can use the sum() function:"
   ]
  },
  {
   "cell_type": "code",
   "execution_count": null,
   "id": "edbc8e27-25df-4167-a5ce-23d0afb1e88b",
   "metadata": {},
   "outputs": [],
   "source": [
    "array = [92, 23, 15, -20, 10]\n",
    "total_sum = sum(array)\n",
    "print(total_sum)\n",
    "output:120\n"
   ]
  },
  {
   "cell_type": "code",
   "execution_count": null,
   "id": "672526e9-135b-43f4-8b1d-3aea15e2c32d",
   "metadata": {},
   "outputs": [],
   "source": [
    "5.   Given a number n, print if it is an Armstrong number or not.\n",
    "An Armstrong number (or Narcissistic number) is a number that is equal to the sum of its own digits each raised to the power of the number of digits.\n",
    "\n",
    "Here's a Python function to check if a number is an Armstrong number:"
   ]
  },
  {
   "cell_type": "code",
   "execution_count": null,
   "id": "e20de09f-4595-4f58-b301-9741f75aa3b5",
   "metadata": {},
   "outputs": [],
   "source": [
    "def is_armstrong(n):\n",
    "    digits = [int(d) for d in str(n)]\n",
    "    num_digits = len(digits)\n",
    "    sum_of_powers = sum(d ** num_digits for d in digits)\n",
    "    return sum_of_powers == n\n",
    "\n",
    "# Input 1\n",
    "n1 = 153\n",
    "print(\"Yes\" if is_armstrong(n1) else \"No\")\n",
    "\n",
    "# Input 2\n",
    "n2 = 134\n",
    "print(\"Yes\" if is_armstrong(n2) else \"No\")\n"
   ]
  },
  {
   "cell_type": "code",
   "execution_count": null,
   "id": "42c8eeed-a9d3-4cf6-a04d-6d1ef21475e1",
   "metadata": {},
   "outputs": [],
   "source": [
    "Output for Input 1:\n",
    "    \n"
   ]
  },
  {
   "cell_type": "code",
   "execution_count": null,
   "id": "6952f90f-1570-4505-9728-6f0a2f468838",
   "metadata": {},
   "outputs": [],
   "source": [
    "yes"
   ]
  },
  {
   "cell_type": "code",
   "execution_count": null,
   "id": "54a215c7-bef9-451d-baf4-cdbc75380dfb",
   "metadata": {},
   "outputs": [],
   "source": [
    "Output for Input 2:"
   ]
  },
  {
   "cell_type": "code",
   "execution_count": null,
   "id": "9d65eb36-095b-45cc-90f5-e01affece263",
   "metadata": {},
   "outputs": [],
   "source": [
    "No\n"
   ]
  }
 ],
 "metadata": {
  "kernelspec": {
   "display_name": "Python 3 (ipykernel)",
   "language": "python",
   "name": "python3"
  },
  "language_info": {
   "codemirror_mode": {
    "name": "ipython",
    "version": 3
   },
   "file_extension": ".py",
   "mimetype": "text/x-python",
   "name": "python",
   "nbconvert_exporter": "python",
   "pygments_lexer": "ipython3",
   "version": "3.10.8"
  }
 },
 "nbformat": 4,
 "nbformat_minor": 5
}
